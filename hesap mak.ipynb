{
 "cells": [
  {
   "cell_type": "code",
   "execution_count": 2,
   "metadata": {},
   "outputs": [],
   "source": [
    "def topla(a,b):\n",
    "\n",
    "    return a+b"
   ]
  },
  {
   "cell_type": "code",
   "execution_count": 28,
   "metadata": {},
   "outputs": [],
   "source": [
    "def multiply(a,b):\n",
    "    return a*b"
   ]
  },
  {
   "cell_type": "code",
   "execution_count": 13,
   "metadata": {},
   "outputs": [],
   "source": [
    "def divide(a, b):\n",
    "    \n",
    "    try:\n",
    "        result = a/float(b)\n",
    "        return result\n",
    "    except ZeroDivisionError:\n",
    "        print(\"'0' a bölünme hatası\")"
   ]
  },
  {
   "cell_type": "code",
   "execution_count": 16,
   "metadata": {},
   "outputs": [],
   "source": [
    "def eksilt(a,b):\n",
    "    return a-b"
   ]
  },
  {
   "cell_type": "code",
   "execution_count": 32,
   "metadata": {},
   "outputs": [],
   "source": [
    "def hesap_mak():\n",
    "    print(\"Lütfen yapmak istediğiniz işlemi seçiniz...:\")\n",
    "    print(\"t : toplama\\ne : çıkarma\\nç : çarpma\\nb : bölme\")\n",
    "    islem = input(\"seçilen işlem :\")\n",
    "    durum = False\n",
    "    while durum == False:\n",
    "        if islem not in [\"t\", \"e\", \"ç\", \"b\"]:\n",
    "            print(\"Lütfen geçerli bir seçenek giriniz\")\n",
    "            islem = input(\"seçilen işlem :\")\n",
    "            \n",
    "        else:\n",
    "            try:\n",
    "                a = float(input(\"Lütfen ilk sayıyı giriniz...   :\"))\n",
    "                b = float(input(\"Lütfen ikinci sayıyı giriniz...:\"))\n",
    "                durum = True\n",
    "            except ValueError:\n",
    "                print(\"Lütfen geçerli bir sayı giriniz!!!\")\n",
    "                \n",
    "                \n",
    "\n",
    "    if islem == \"t\":\n",
    "        return topla(a,b)\n",
    "    \n",
    "    elif islem == \"e\":\n",
    "        return eksilt(a,b)\n",
    "        \n",
    "    elif islem == \"ç\":\n",
    "        return multiply(a,b)\n",
    "        \n",
    "    else:\n",
    "        return divide(a, b)"
   ]
  },
  {
   "cell_type": "code",
   "execution_count": 14,
   "metadata": {},
   "outputs": [],
   "source": [
    "x = -321000"
   ]
  },
  {
   "cell_type": "code",
   "execution_count": 36,
   "metadata": {},
   "outputs": [
    {
     "name": "stdout",
     "output_type": "stream",
     "text": [
      "21\n"
     ]
    }
   ],
   "source": [
    "if str(x)[0] == \"-\":\n",
    "    print(\"-\" + str(x)[:0:-1].lstrip(\"0\"))\n",
    "else:\n",
    "    print(str(x)[::-1].lstrip(\"0\"))"
   ]
  },
  {
   "cell_type": "code",
   "execution_count": 41,
   "metadata": {},
   "outputs": [
    {
     "data": {
      "text/plain": [
       "21"
      ]
     },
     "execution_count": 41,
     "metadata": {},
     "output_type": "execute_result"
    }
   ],
   "source": [
    "int(str(x)[::-1].lstrip(\"0\"))"
   ]
  },
  {
   "cell_type": "code",
   "execution_count": 16,
   "metadata": {},
   "outputs": [
    {
     "data": {
      "text/plain": [
       "'-321'"
      ]
     },
     "execution_count": 16,
     "metadata": {},
     "output_type": "execute_result"
    }
   ],
   "source": [
    "str(x)"
   ]
  },
  {
   "cell_type": "code",
   "execution_count": 42,
   "metadata": {},
   "outputs": [],
   "source": [
    "x = 2**31-1"
   ]
  },
  {
   "cell_type": "code",
   "execution_count": 43,
   "metadata": {},
   "outputs": [],
   "source": [
    "y = 1534236469"
   ]
  },
  {
   "cell_type": "code",
   "execution_count": 44,
   "metadata": {},
   "outputs": [
    {
     "data": {
      "text/plain": [
       "True"
      ]
     },
     "execution_count": 44,
     "metadata": {},
     "output_type": "execute_result"
    }
   ],
   "source": [
    "x > y"
   ]
  },
  {
   "cell_type": "code",
   "execution_count": 45,
   "metadata": {},
   "outputs": [
    {
     "data": {
      "text/plain": [
       "2147483647"
      ]
     },
     "execution_count": 45,
     "metadata": {},
     "output_type": "execute_result"
    }
   ],
   "source": [
    "x"
   ]
  },
  {
   "cell_type": "code",
   "execution_count": null,
   "metadata": {},
   "outputs": [],
   "source": []
  }
 ],
 "metadata": {
  "kernelspec": {
   "display_name": "Python 3",
   "language": "python",
   "name": "python3"
  },
  "language_info": {
   "codemirror_mode": {
    "name": "ipython",
    "version": 3
   },
   "file_extension": ".py",
   "mimetype": "text/x-python",
   "name": "python",
   "nbconvert_exporter": "python",
   "pygments_lexer": "ipython3",
   "version": "3.8.2"
  }
 },
 "nbformat": 4,
 "nbformat_minor": 4
}
